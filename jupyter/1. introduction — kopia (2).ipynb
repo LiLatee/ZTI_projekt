{
 "cells": [
  {
   "cell_type": "code",
   "execution_count": 138,
   "metadata": {},
   "outputs": [],
   "source": [
    "import pandas as pd\n",
    "from langdetect import detect\n",
    "from SPARQLWrapper import SPARQLWrapper, JSON\n",
    "import re\n",
    "import numpy as np"
   ]
  },
  {
   "cell_type": "code",
   "execution_count": 3,
   "metadata": {},
   "outputs": [
    {
     "data": {
      "text/html": [
       "<div>\n",
       "<style scoped>\n",
       "    .dataframe tbody tr th:only-of-type {\n",
       "        vertical-align: middle;\n",
       "    }\n",
       "\n",
       "    .dataframe tbody tr th {\n",
       "        vertical-align: top;\n",
       "    }\n",
       "\n",
       "    .dataframe thead th {\n",
       "        text-align: right;\n",
       "    }\n",
       "</style>\n",
       "<table border=\"1\" class=\"dataframe\">\n",
       "  <thead>\n",
       "    <tr style=\"text-align: right;\">\n",
       "      <th></th>\n",
       "      <th>TableID</th>\n",
       "      <th>ColumnID</th>\n",
       "      <th>RowID</th>\n",
       "    </tr>\n",
       "  </thead>\n",
       "  <tbody>\n",
       "    <tr>\n",
       "      <th>0</th>\n",
       "      <td>50245608_0_871275842592178099</td>\n",
       "      <td>0</td>\n",
       "      <td>154</td>\n",
       "    </tr>\n",
       "    <tr>\n",
       "      <th>1</th>\n",
       "      <td>39107734_2_2329160387535788734</td>\n",
       "      <td>1</td>\n",
       "      <td>32</td>\n",
       "    </tr>\n",
       "    <tr>\n",
       "      <th>2</th>\n",
       "      <td>22864497_0_8632623712684511496</td>\n",
       "      <td>0</td>\n",
       "      <td>227</td>\n",
       "    </tr>\n",
       "  </tbody>\n",
       "</table>\n",
       "</div>"
      ],
      "text/plain": [
       "                          TableID  ColumnID  RowID\n",
       "0   50245608_0_871275842592178099         0    154\n",
       "1  39107734_2_2329160387535788734         1     32\n",
       "2  22864497_0_8632623712684511496         0    227"
      ]
     },
     "execution_count": 3,
     "metadata": {},
     "output_type": "execute_result"
    }
   ],
   "source": [
    "target = pd.read_csv(\"D:\\Dokumenty\\Zastosowanie Technologii Informatycznych\\data\\CEA_Round1_Targets.csv\",\n",
    "                    sep = ',',\n",
    "                    names=['TableID', 'ColumnID', 'RowID'])\n",
    "target[:3]"
   ]
  },
  {
   "cell_type": "code",
   "execution_count": 140,
   "metadata": {},
   "outputs": [
    {
     "name": "stdout",
     "output_type": "stream",
     "text": [
      "54719588_0_8417197176086756912 3 248\n",
      "nan\n"
     ]
    },
    {
     "ename": "LangDetectException",
     "evalue": "No features in text.",
     "output_type": "error",
     "traceback": [
      "\u001b[1;31m---------------------------------------------------------------------------\u001b[0m",
      "\u001b[1;31mLangDetectException\u001b[0m                       Traceback (most recent call last)",
      "\u001b[1;32m<ipython-input-140-1d7e7f810c4e>\u001b[0m in \u001b[0;36m<module>\u001b[1;34m\u001b[0m\n\u001b[0;32m     27\u001b[0m         \u001b[0mprint\u001b[0m\u001b[1;33m(\u001b[0m\u001b[0mcell_content\u001b[0m\u001b[1;33m)\u001b[0m\u001b[1;33m\u001b[0m\u001b[1;33m\u001b[0m\u001b[0m\n\u001b[0;32m     28\u001b[0m         \u001b[1;32mcontinue\u001b[0m\u001b[1;33m\u001b[0m\u001b[1;33m\u001b[0m\u001b[0m\n\u001b[1;32m---> 29\u001b[1;33m     \u001b[0mquery\u001b[0m \u001b[1;33m=\u001b[0m \u001b[1;34m\"\"\"SELECT ?resource WHERE { ?resource rdfs:label \"\"\"\u001b[0m \u001b[1;33m+\u001b[0m \u001b[1;34m'\"'\u001b[0m \u001b[1;33m+\u001b[0m \u001b[0mstr\u001b[0m\u001b[1;33m(\u001b[0m\u001b[0mcell_content\u001b[0m\u001b[1;33m)\u001b[0m \u001b[1;33m+\u001b[0m \u001b[1;34m'\"'\u001b[0m \u001b[1;33m+\u001b[0m \u001b[1;34m'@'\u001b[0m \u001b[1;33m+\u001b[0m \u001b[0mdetect\u001b[0m\u001b[1;33m(\u001b[0m\u001b[0mcell_content\u001b[0m\u001b[1;33m)\u001b[0m \u001b[1;33m+\u001b[0m \u001b[1;34m'}'\u001b[0m\u001b[1;33m\u001b[0m\u001b[1;33m\u001b[0m\u001b[0m\n\u001b[0m\u001b[0;32m     30\u001b[0m     \u001b[0msparql\u001b[0m \u001b[1;33m=\u001b[0m \u001b[0mSPARQLWrapper\u001b[0m\u001b[1;33m(\u001b[0m\u001b[1;34m\"http://dbpedia.org/sparql\"\u001b[0m\u001b[1;33m)\u001b[0m\u001b[1;33m\u001b[0m\u001b[1;33m\u001b[0m\u001b[0m\n\u001b[0;32m     31\u001b[0m     \u001b[0msparql\u001b[0m\u001b[1;33m.\u001b[0m\u001b[0msetQuery\u001b[0m\u001b[1;33m(\u001b[0m\u001b[0mquery\u001b[0m\u001b[1;33m)\u001b[0m\u001b[1;33m\u001b[0m\u001b[1;33m\u001b[0m\u001b[0m\n",
      "\u001b[1;32mD:\\Instalowane\\Programy\\Anaconda3\\lib\\site-packages\\langdetect\\detector_factory.py\u001b[0m in \u001b[0;36mdetect\u001b[1;34m(text)\u001b[0m\n\u001b[0;32m    128\u001b[0m     \u001b[0mdetector\u001b[0m \u001b[1;33m=\u001b[0m \u001b[0m_factory\u001b[0m\u001b[1;33m.\u001b[0m\u001b[0mcreate\u001b[0m\u001b[1;33m(\u001b[0m\u001b[1;33m)\u001b[0m\u001b[1;33m\u001b[0m\u001b[1;33m\u001b[0m\u001b[0m\n\u001b[0;32m    129\u001b[0m     \u001b[0mdetector\u001b[0m\u001b[1;33m.\u001b[0m\u001b[0mappend\u001b[0m\u001b[1;33m(\u001b[0m\u001b[0mtext\u001b[0m\u001b[1;33m)\u001b[0m\u001b[1;33m\u001b[0m\u001b[1;33m\u001b[0m\u001b[0m\n\u001b[1;32m--> 130\u001b[1;33m     \u001b[1;32mreturn\u001b[0m \u001b[0mdetector\u001b[0m\u001b[1;33m.\u001b[0m\u001b[0mdetect\u001b[0m\u001b[1;33m(\u001b[0m\u001b[1;33m)\u001b[0m\u001b[1;33m\u001b[0m\u001b[1;33m\u001b[0m\u001b[0m\n\u001b[0m\u001b[0;32m    131\u001b[0m \u001b[1;33m\u001b[0m\u001b[0m\n\u001b[0;32m    132\u001b[0m \u001b[1;33m\u001b[0m\u001b[0m\n",
      "\u001b[1;32mD:\\Instalowane\\Programy\\Anaconda3\\lib\\site-packages\\langdetect\\detector.py\u001b[0m in \u001b[0;36mdetect\u001b[1;34m(self)\u001b[0m\n\u001b[0;32m    134\u001b[0m         \u001b[0mwhich\u001b[0m \u001b[0mhas\u001b[0m \u001b[0mthe\u001b[0m \u001b[0mhighest\u001b[0m \u001b[0mprobability\u001b[0m\u001b[1;33m.\u001b[0m\u001b[1;33m\u001b[0m\u001b[1;33m\u001b[0m\u001b[0m\n\u001b[0;32m    135\u001b[0m         '''\n\u001b[1;32m--> 136\u001b[1;33m         \u001b[0mprobabilities\u001b[0m \u001b[1;33m=\u001b[0m \u001b[0mself\u001b[0m\u001b[1;33m.\u001b[0m\u001b[0mget_probabilities\u001b[0m\u001b[1;33m(\u001b[0m\u001b[1;33m)\u001b[0m\u001b[1;33m\u001b[0m\u001b[1;33m\u001b[0m\u001b[0m\n\u001b[0m\u001b[0;32m    137\u001b[0m         \u001b[1;32mif\u001b[0m \u001b[0mprobabilities\u001b[0m\u001b[1;33m:\u001b[0m\u001b[1;33m\u001b[0m\u001b[1;33m\u001b[0m\u001b[0m\n\u001b[0;32m    138\u001b[0m             \u001b[1;32mreturn\u001b[0m \u001b[0mprobabilities\u001b[0m\u001b[1;33m[\u001b[0m\u001b[1;36m0\u001b[0m\u001b[1;33m]\u001b[0m\u001b[1;33m.\u001b[0m\u001b[0mlang\u001b[0m\u001b[1;33m\u001b[0m\u001b[1;33m\u001b[0m\u001b[0m\n",
      "\u001b[1;32mD:\\Instalowane\\Programy\\Anaconda3\\lib\\site-packages\\langdetect\\detector.py\u001b[0m in \u001b[0;36mget_probabilities\u001b[1;34m(self)\u001b[0m\n\u001b[0;32m    141\u001b[0m     \u001b[1;32mdef\u001b[0m \u001b[0mget_probabilities\u001b[0m\u001b[1;33m(\u001b[0m\u001b[0mself\u001b[0m\u001b[1;33m)\u001b[0m\u001b[1;33m:\u001b[0m\u001b[1;33m\u001b[0m\u001b[1;33m\u001b[0m\u001b[0m\n\u001b[0;32m    142\u001b[0m         \u001b[1;32mif\u001b[0m \u001b[0mself\u001b[0m\u001b[1;33m.\u001b[0m\u001b[0mlangprob\u001b[0m \u001b[1;32mis\u001b[0m \u001b[1;32mNone\u001b[0m\u001b[1;33m:\u001b[0m\u001b[1;33m\u001b[0m\u001b[1;33m\u001b[0m\u001b[0m\n\u001b[1;32m--> 143\u001b[1;33m             \u001b[0mself\u001b[0m\u001b[1;33m.\u001b[0m\u001b[0m_detect_block\u001b[0m\u001b[1;33m(\u001b[0m\u001b[1;33m)\u001b[0m\u001b[1;33m\u001b[0m\u001b[1;33m\u001b[0m\u001b[0m\n\u001b[0m\u001b[0;32m    144\u001b[0m         \u001b[1;32mreturn\u001b[0m \u001b[0mself\u001b[0m\u001b[1;33m.\u001b[0m\u001b[0m_sort_probability\u001b[0m\u001b[1;33m(\u001b[0m\u001b[0mself\u001b[0m\u001b[1;33m.\u001b[0m\u001b[0mlangprob\u001b[0m\u001b[1;33m)\u001b[0m\u001b[1;33m\u001b[0m\u001b[1;33m\u001b[0m\u001b[0m\n\u001b[0;32m    145\u001b[0m \u001b[1;33m\u001b[0m\u001b[0m\n",
      "\u001b[1;32mD:\\Instalowane\\Programy\\Anaconda3\\lib\\site-packages\\langdetect\\detector.py\u001b[0m in \u001b[0;36m_detect_block\u001b[1;34m(self)\u001b[0m\n\u001b[0;32m    148\u001b[0m         \u001b[0mngrams\u001b[0m \u001b[1;33m=\u001b[0m \u001b[0mself\u001b[0m\u001b[1;33m.\u001b[0m\u001b[0m_extract_ngrams\u001b[0m\u001b[1;33m(\u001b[0m\u001b[1;33m)\u001b[0m\u001b[1;33m\u001b[0m\u001b[1;33m\u001b[0m\u001b[0m\n\u001b[0;32m    149\u001b[0m         \u001b[1;32mif\u001b[0m \u001b[1;32mnot\u001b[0m \u001b[0mngrams\u001b[0m\u001b[1;33m:\u001b[0m\u001b[1;33m\u001b[0m\u001b[1;33m\u001b[0m\u001b[0m\n\u001b[1;32m--> 150\u001b[1;33m             \u001b[1;32mraise\u001b[0m \u001b[0mLangDetectException\u001b[0m\u001b[1;33m(\u001b[0m\u001b[0mErrorCode\u001b[0m\u001b[1;33m.\u001b[0m\u001b[0mCantDetectError\u001b[0m\u001b[1;33m,\u001b[0m \u001b[1;34m'No features in text.'\u001b[0m\u001b[1;33m)\u001b[0m\u001b[1;33m\u001b[0m\u001b[1;33m\u001b[0m\u001b[0m\n\u001b[0m\u001b[0;32m    151\u001b[0m \u001b[1;33m\u001b[0m\u001b[0m\n\u001b[0;32m    152\u001b[0m         \u001b[0mself\u001b[0m\u001b[1;33m.\u001b[0m\u001b[0mlangprob\u001b[0m \u001b[1;33m=\u001b[0m \u001b[1;33m[\u001b[0m\u001b[1;36m0.0\u001b[0m\u001b[1;33m]\u001b[0m \u001b[1;33m*\u001b[0m \u001b[0mlen\u001b[0m\u001b[1;33m(\u001b[0m\u001b[0mself\u001b[0m\u001b[1;33m.\u001b[0m\u001b[0mlanglist\u001b[0m\u001b[1;33m)\u001b[0m\u001b[1;33m\u001b[0m\u001b[1;33m\u001b[0m\u001b[0m\n",
      "\u001b[1;31mLangDetectException\u001b[0m: No features in text."
     ]
    }
   ],
   "source": [
    "answers_dict = {\"TableID\":[],\n",
    "               \"ColumnID\":[],\n",
    "               \"RowID\":[],\n",
    "               \"URI\":[]}\n",
    "\n",
    "counter = 0\n",
    "try:\n",
    "for index, row in target.iterrows():\n",
    "    try:\n",
    "    #     counter = counter + 1\n",
    "    #     if counter == 10:\n",
    "    #         break\n",
    "\n",
    "\n",
    "        table_id = row['TableID']\n",
    "        column_id = row['ColumnID']\n",
    "        row_id = row['RowID']\n",
    "\n",
    "        answers_dict['TableID'].append(table_id)\n",
    "        answers_dict['ColumnID'].append(column_id)\n",
    "        answers_dict['RowID'].append(row_id)\n",
    "\n",
    "        df = pd.read_csv(f\"D:\\Dokumenty\\Zastosowanie Technologii Informatycznych\\data\\CEA_Round1\\{table_id}.csv\",\n",
    "                    sep=',')\n",
    "        cell_content = df.iloc[row_id-1:row_id, column_id:(column_id+1)].values[0][0]\n",
    "\n",
    "        if cell_content is np.nan:\n",
    "            print(table_id, column_id, row_id)\n",
    "            print(cell_content)\n",
    "            continue\n",
    "        query = \"\"\"SELECT ?resource WHERE { ?resource rdfs:label \"\"\" + '\"' + str(cell_content) + '\"' + '@' + detect(cell_content) + '}'\n",
    "        sparql = SPARQLWrapper(\"http://dbpedia.org/sparql\")\n",
    "        sparql.setQuery(query)\n",
    "        sparql.setReturnFormat(JSON)\n",
    "        results = sparql.query().convert()\n",
    "\n",
    "        # sprawdzenie czy w ogóle znaleziono jakikolwiek link do dbpedii\n",
    "        if str(results['results']['bindings']).find(\"http://dbpedia.org/resource/\") == -1:\n",
    "            answers_dict['URI'].append(\"BRAK\")\n",
    "            continue\n",
    "\n",
    "        # jeśli tak to szukamy konkretnie tego linku\n",
    "        results_list = results['results']['bindings']\n",
    "        for result_dict in results_list:\n",
    "    #         print(result_dict)\n",
    "            uri = result_dict['resource']['value']\n",
    "            match = re.match(\"http://dbpedia.org/resource/*\", uri)\n",
    "            if match:\n",
    "                answers_dict['URI'].append(uri)\n",
    "                break\n",
    "\n",
    "\n",
    "\n",
    "# print(answers_dict)\n",
    "result_df = pd.DataFrame(answers_dict)"
   ]
  },
  {
   "cell_type": "code",
   "execution_count": null,
   "metadata": {},
   "outputs": [],
   "source": [
    "result_df.to_csv(\"D:\\Dokumenty\\Zastosowanie Technologii Informatycznych\\data\\my_submission.csv\",\n",
    "                 index=False,\n",
    "                 sep=',',\n",
    "                header=False)"
   ]
  },
  {
   "cell_type": "code",
   "execution_count": 66,
   "metadata": {},
   "outputs": [
    {
     "data": {
      "text/html": [
       "<div>\n",
       "<style scoped>\n",
       "    .dataframe tbody tr th:only-of-type {\n",
       "        vertical-align: middle;\n",
       "    }\n",
       "\n",
       "    .dataframe tbody tr th {\n",
       "        vertical-align: top;\n",
       "    }\n",
       "\n",
       "    .dataframe thead th {\n",
       "        text-align: right;\n",
       "    }\n",
       "</style>\n",
       "<table border=\"1\" class=\"dataframe\">\n",
       "  <thead>\n",
       "    <tr style=\"text-align: right;\">\n",
       "      <th></th>\n",
       "      <th>Rang</th>\n",
       "      <th>Name</th>\n",
       "      <th>Staat(en)</th>\n",
       "      <th>Fläche-(km2)</th>\n",
       "      <th>Länge-(km)</th>\n",
       "      <th>Max.-Tiefe-(m)</th>\n",
       "      <th>Volumen-(km?)</th>\n",
       "    </tr>\n",
       "  </thead>\n",
       "  <tbody>\n",
       "    <tr>\n",
       "      <th>0</th>\n",
       "      <td>1.0</td>\n",
       "      <td>Kaspisches-Meer</td>\n",
       "      <td>Aserbaidschan Russland Kasachstan Turkmenistan...</td>\n",
       "      <td>371.000</td>\n",
       "      <td>1199</td>\n",
       "      <td>1025</td>\n",
       "      <td>78.200</td>\n",
       "    </tr>\n",
       "    <tr>\n",
       "      <th>1</th>\n",
       "      <td>2.0</td>\n",
       "      <td>Oberer-See</td>\n",
       "      <td>USA-Kanada</td>\n",
       "      <td>82.414</td>\n",
       "      <td>616</td>\n",
       "      <td>405</td>\n",
       "      <td>12.100</td>\n",
       "    </tr>\n",
       "    <tr>\n",
       "      <th>2</th>\n",
       "      <td>3.0</td>\n",
       "      <td>Victoriasee</td>\n",
       "      <td>Kenia Tansania Uganda</td>\n",
       "      <td>69.485</td>\n",
       "      <td>322</td>\n",
       "      <td>84</td>\n",
       "      <td>2750</td>\n",
       "    </tr>\n",
       "  </tbody>\n",
       "</table>\n",
       "</div>"
      ],
      "text/plain": [
       "   Rang             Name                                          Staat(en)  \\\n",
       "0   1.0  Kaspisches-Meer  Aserbaidschan Russland Kasachstan Turkmenistan...   \n",
       "1   2.0       Oberer-See                                         USA-Kanada   \n",
       "2   3.0      Victoriasee                              Kenia Tansania Uganda   \n",
       "\n",
       "   Fläche-(km2) Länge-(km) Max.-Tiefe-(m) Volumen-(km?)  \n",
       "0       371.000       1199           1025        78.200  \n",
       "1        82.414        616            405        12.100  \n",
       "2        69.485        322             84          2750  "
      ]
     },
     "execution_count": 66,
     "metadata": {},
     "output_type": "execute_result"
    }
   ],
   "source": [
    "df = pd.read_csv(\"D:\\Dokumenty\\Zastosowanie Technologii Informatycznych\\data\\CEA_Round1\\8468806_0_4382447409703007384.csv\",\n",
    "                sep=',')\n",
    "df[:3]"
   ]
  },
  {
   "cell_type": "code",
   "execution_count": 67,
   "metadata": {},
   "outputs": [
    {
     "data": {
      "text/plain": [
       "'de'"
      ]
     },
     "execution_count": 67,
     "metadata": {},
     "output_type": "execute_result"
    }
   ],
   "source": [
    "detect(df.iloc[0:1, 1:2].values[0][0])"
   ]
  },
  {
   "cell_type": "code",
   "execution_count": 68,
   "metadata": {},
   "outputs": [
    {
     "name": "stdout",
     "output_type": "stream",
     "text": [
      "{'head': {'link': [], 'vars': ['label']}, 'results': {'distinct': False, 'ordered': True, 'bindings': [{'label': {'type': 'literal', 'xml:lang': 'en', 'value': 'Norway'}}, {'label': {'type': 'literal', 'xml:lang': 'ar', 'value': 'النرويج'}}, {'label': {'type': 'literal', 'xml:lang': 'de', 'value': 'Norwegen'}}, {'label': {'type': 'literal', 'xml:lang': 'es', 'value': 'Noruega'}}, {'label': {'type': 'literal', 'xml:lang': 'fr', 'value': 'Norvège'}}, {'label': {'type': 'literal', 'xml:lang': 'it', 'value': 'Norvegia'}}, {'label': {'type': 'literal', 'xml:lang': 'ja', 'value': 'ノルウェー'}}, {'label': {'type': 'literal', 'xml:lang': 'nl', 'value': 'Noorwegen'}}, {'label': {'type': 'literal', 'xml:lang': 'pl', 'value': 'Norwegia'}}, {'label': {'type': 'literal', 'xml:lang': 'pt', 'value': 'Noruega'}}, {'label': {'type': 'literal', 'xml:lang': 'ru', 'value': 'Норвегия'}}, {'label': {'type': 'literal', 'xml:lang': 'zh', 'value': '挪威'}}]}}\n",
      "Norway\n",
      "النرويج\n",
      "Norwegen\n",
      "Noruega\n",
      "Norvège\n",
      "Norvegia\n",
      "ノルウェー\n",
      "Noorwegen\n",
      "Norwegia\n",
      "Noruega\n",
      "Норвегия\n",
      "挪威\n"
     ]
    }
   ],
   "source": [
    "from SPARQLWrapper import SPARQLWrapper, JSON\n",
    "\n",
    "sparql = SPARQLWrapper(\"http://dbpedia.org/sparql\")\n",
    "sparql.setQuery(\"\"\"\n",
    "    PREFIX rdfs: <http://www.w3.org/2000/01/rdf-schema#>\n",
    "    SELECT ?label\n",
    "    WHERE { <http://dbpedia.org/resource/Norway> rdfs:label ?label }\n",
    "\"\"\")\n",
    "sparql.setReturnFormat(JSON)\n",
    "results = sparql.query().convert()\n",
    "\n",
    "print(results)\n",
    "for result in results[\"results\"][\"bindings\"]:\n",
    "    print(result[\"label\"][\"value\"])"
   ]
  },
  {
   "cell_type": "code",
   "execution_count": 69,
   "metadata": {},
   "outputs": [
    {
     "name": "stdout",
     "output_type": "stream",
     "text": [
      "{'head': {'link': [], 'vars': ['a', 'c']}, 'results': {'distinct': False, 'ordered': True, 'bindings': [{'a': {'type': 'uri', 'value': 'http://dbpedia.org/resource/IKEA'}}]}}\n"
     ]
    }
   ],
   "source": [
    "from SPARQLWrapper import SPARQLWrapper, JSON\n",
    "\n",
    "sparql = SPARQLWrapper(\"http://dbpedia.org/sparql\")\n",
    "sparql.setQuery(\"\"\"\n",
    "    PREFIX rdfs: <http://www.w3.org/2000/01/rdf-schema#>\n",
    "    PREFIX ont: <http://dbpedia.org/ontology/>\n",
    "    SELECT ?a, ?c\n",
    "    WHERE { \n",
    "            ?a ont:location <http://dbpedia.org/resource/Delft> . \n",
    "            FILTER regex(?a, \"Ikea\", \"i\")\n",
    "          }\n",
    "\"\"\")\n",
    "sparql.setReturnFormat(JSON)\n",
    "results = sparql.query().convert()\n",
    "\n",
    "print(results)\n",
    "# print(result['a'])\n",
    "# print(result['b'])\n",
    "# print(result['c'])\n",
    "\n",
    "# for result in results[\"results\"][\"bindings\"]:\n",
    "#     print(type(result))"
   ]
  },
  {
   "cell_type": "code",
   "execution_count": 1,
   "metadata": {},
   "outputs": [
    {
     "name": "stdout",
     "output_type": "stream",
     "text": [
      "{'head': {'link': []}, 'boolean': True}\n"
     ]
    }
   ],
   "source": [
    "from SPARQLWrapper import SPARQLWrapper, JSON\n",
    "\n",
    "sss = \"dbr:Game_of_Thrones\"\n",
    "sparql = SPARQLWrapper(\"http://dbpedia.org/sparql\")\n",
    "sparql.setQuery('''\n",
    "ASK {e}\n",
    "    VALUES (?r) {e} ({source}) {w}\n",
    "        {e} ?r ?p ?o {w}\n",
    "        UNION\n",
    "        {e} ?s ?r ?o {w}\n",
    "        UNION\n",
    "        {e} ?s ?p ?r {w}\n",
    "    {w} \n",
    "'''.format(source=sss, e=\"{\", w=\"}\"))\n",
    "sparql.setReturnFormat(JSON)\n",
    "results = sparql.query().convert()\n",
    "\n",
    "print(results)"
   ]
  },
  {
   "cell_type": "code",
   "execution_count": 2,
   "metadata": {},
   "outputs": [
    {
     "name": "stdout",
     "output_type": "stream",
     "text": [
      "{'head': {'link': []}, 'boolean': False}\n"
     ]
    }
   ],
   "source": [
    "from SPARQLWrapper import SPARQLWrapper, JSON\n",
    "\n",
    "sss = \"dbr:Game_of_Thrones\"\n",
    "sparql = SPARQLWrapper(\"http://dbpedia.org/sparql\")\n",
    "sparql.setQuery('''\n",
    "ASK {\n",
    "    VALUES (?r) { (dbr:Gra_o_tron) }\n",
    "        { ?r ?p ?o }\n",
    "        UNION\n",
    "        { ?s ?r ?o }\n",
    "        UNION\n",
    "        { ?s ?p ?r }\n",
    "    } \n",
    "''')\n",
    "sparql.setReturnFormat(JSON)\n",
    "results = sparql.query().convert()\n",
    "\n",
    "print(results)\n",
    "\n"
   ]
  },
  {
   "cell_type": "code",
   "execution_count": null,
   "metadata": {},
   "outputs": [],
   "source": [
    "SELECT ?r ?p ?o\n",
    "WHERE {\n",
    " VALUES (?r) { (dbr:Cat) }\n",
    "        { ?r ?p ?o }\n",
    "        UNION\n",
    "        { ?s ?r ?o }\n",
    "        UNION\n",
    "        { ?s ?p ?r }\n",
    "}\n",
    "\n",
    "select ?s\n",
    "where {\n",
    "        { ?s rdfs:label \"Kot domowy\"@pl }\n",
    "        UNION\n",
    "        { \"Kot domowy\"@pl rdfs:label ?s }\n",
    "} \n",
    "\n",
    "SELECT ?r\n",
    "WHERE {\n",
    "        { ?r rdfs:label \"Kaspisches Meer\"@de }\n",
    "\n",
    "}"
   ]
  },
  {
   "cell_type": "code",
   "execution_count": 123,
   "metadata": {},
   "outputs": [
    {
     "name": "stdout",
     "output_type": "stream",
     "text": [
      "[{'resource': {'type': 'uri', 'value': 'http://www.wikidata.org/entity/Q5484'}}, {'resource': {'type': 'uri', 'value': 'http://dbpedia.org/resource/Caspian_Sea'}}]\n",
      "jest\n"
     ]
    }
   ],
   "source": [
    "sparql = SPARQLWrapper(\"http://dbpedia.org/sparql\")\n",
    "sparql.setQuery(\"\"\"\n",
    "    SELECT ?resource\n",
    "    WHERE { ?resource rdfs:label \"Kaspisches Meer\"@de }\n",
    "\"\"\")\n",
    "sparql.setReturnFormat(JSON)\n",
    "results = sparql.query().convert()\n",
    "# print(results['results']['bindings'][1]['r']['value'])\n",
    "# results = str(results['results']['bindings'])\n",
    "print(str(results['results']['bindings']))\n",
    "if str(results['results']['bindings']).find(\"http://dbpedia.org/resource/\") == -1:\n",
    "    print(\"nie ma\")\n",
    "else:\n",
    "    print('jest')\n",
    "# for result_dict in results_list:\n",
    "#     uri = result_dict['resource']['value']\n",
    "#     match = re.match(\"http://dbpedia.org/resource/*\", uri)\n",
    "#     if match:\n",
    "#         print(uri)\n",
    "#     else:\n",
    "#         print(\"NIE\")\n",
    "\n",
    "# print(results['results']['bindings'])"
   ]
  },
  {
   "cell_type": "code",
   "execution_count": 101,
   "metadata": {},
   "outputs": [
    {
     "name": "stdout",
     "output_type": "stream",
     "text": [
      "http://dbpedia.org/resource/\n"
     ]
    }
   ],
   "source": [
    "import re\n",
    "match = re.match(\"http://dbpedia.org/resource/*\",'http://dbpedia.org/resource/Caspian_Sea', re.M|re.I)\n",
    "if match:\n",
    "    print(match.group())"
   ]
  },
  {
   "cell_type": "code",
   "execution_count": null,
   "metadata": {},
   "outputs": [],
   "source": []
  }
 ],
 "metadata": {
  "kernelspec": {
   "display_name": "Python 3",
   "language": "python",
   "name": "python3"
  },
  "language_info": {
   "codemirror_mode": {
    "name": "ipython",
    "version": 3
   },
   "file_extension": ".py",
   "mimetype": "text/x-python",
   "name": "python",
   "nbconvert_exporter": "python",
   "pygments_lexer": "ipython3",
   "version": "3.7.3"
  }
 },
 "nbformat": 4,
 "nbformat_minor": 2
}
