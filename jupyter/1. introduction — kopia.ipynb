{
 "cells": [
  {
   "cell_type": "code",
   "execution_count": 2,
   "metadata": {},
   "outputs": [],
   "source": [
    "import pandas as pd\n",
    "from langdetect import detect"
   ]
  },
  {
   "cell_type": "code",
   "execution_count": 3,
   "metadata": {},
   "outputs": [
    {
     "data": {
      "text/html": [
       "<div>\n",
       "<style scoped>\n",
       "    .dataframe tbody tr th:only-of-type {\n",
       "        vertical-align: middle;\n",
       "    }\n",
       "\n",
       "    .dataframe tbody tr th {\n",
       "        vertical-align: top;\n",
       "    }\n",
       "\n",
       "    .dataframe thead th {\n",
       "        text-align: right;\n",
       "    }\n",
       "</style>\n",
       "<table border=\"1\" class=\"dataframe\">\n",
       "  <thead>\n",
       "    <tr style=\"text-align: right;\">\n",
       "      <th></th>\n",
       "      <th>TableID</th>\n",
       "      <th>ColumnID</th>\n",
       "      <th>RowID</th>\n",
       "    </tr>\n",
       "  </thead>\n",
       "  <tbody>\n",
       "    <tr>\n",
       "      <th>0</th>\n",
       "      <td>50245608_0_871275842592178099</td>\n",
       "      <td>0</td>\n",
       "      <td>154</td>\n",
       "    </tr>\n",
       "    <tr>\n",
       "      <th>1</th>\n",
       "      <td>39107734_2_2329160387535788734</td>\n",
       "      <td>1</td>\n",
       "      <td>32</td>\n",
       "    </tr>\n",
       "    <tr>\n",
       "      <th>2</th>\n",
       "      <td>22864497_0_8632623712684511496</td>\n",
       "      <td>0</td>\n",
       "      <td>227</td>\n",
       "    </tr>\n",
       "  </tbody>\n",
       "</table>\n",
       "</div>"
      ],
      "text/plain": [
       "                          TableID  ColumnID  RowID\n",
       "0   50245608_0_871275842592178099         0    154\n",
       "1  39107734_2_2329160387535788734         1     32\n",
       "2  22864497_0_8632623712684511496         0    227"
      ]
     },
     "execution_count": 3,
     "metadata": {},
     "output_type": "execute_result"
    }
   ],
   "source": [
    "target = pd.read_csv(\"D:\\Dokumenty\\Zastosowanie Technologii Informatycznych\\data\\CEA_Round1_Targets.csv\",\n",
    "                    sep = ',',\n",
    "                    names=['TableID', 'ColumnID', 'RowID'])\n",
    "target[:3]"
   ]
  },
  {
   "cell_type": "code",
   "execution_count": 4,
   "metadata": {},
   "outputs": [
    {
     "data": {
      "text/plain": [
       "(8418, 3)"
      ]
     },
     "execution_count": 4,
     "metadata": {},
     "output_type": "execute_result"
    }
   ],
   "source": [
    "target.shape"
   ]
  },
  {
   "cell_type": "code",
   "execution_count": 24,
   "metadata": {},
   "outputs": [
    {
     "name": "stdout",
     "output_type": "stream",
     "text": [
      "8418\n"
     ]
    }
   ],
   "source": [
    "counter = 0\n",
    "for index, row in target.iterrows():\n",
    "    table_id = row['TableID']\n",
    "    column_id = row['ColumnID']\n",
    "    row_id = row['RowID']\n",
    "    df = pd.read_csv(f\"D:\\Dokumenty\\Zastosowanie Technologii Informatycznych\\data\\CEA_Round1\\{table_id}.csv\",\n",
    "                sep=',')\n",
    "    print(df.iloc[row_id-1:row_id, column_id:(column_id+1)].values)\n"
   ]
  },
  {
   "cell_type": "code",
   "execution_count": 66,
   "metadata": {},
   "outputs": [
    {
     "data": {
      "text/html": [
       "<div>\n",
       "<style scoped>\n",
       "    .dataframe tbody tr th:only-of-type {\n",
       "        vertical-align: middle;\n",
       "    }\n",
       "\n",
       "    .dataframe tbody tr th {\n",
       "        vertical-align: top;\n",
       "    }\n",
       "\n",
       "    .dataframe thead th {\n",
       "        text-align: right;\n",
       "    }\n",
       "</style>\n",
       "<table border=\"1\" class=\"dataframe\">\n",
       "  <thead>\n",
       "    <tr style=\"text-align: right;\">\n",
       "      <th></th>\n",
       "      <th>Rang</th>\n",
       "      <th>Name</th>\n",
       "      <th>Staat(en)</th>\n",
       "      <th>Fläche-(km2)</th>\n",
       "      <th>Länge-(km)</th>\n",
       "      <th>Max.-Tiefe-(m)</th>\n",
       "      <th>Volumen-(km?)</th>\n",
       "    </tr>\n",
       "  </thead>\n",
       "  <tbody>\n",
       "    <tr>\n",
       "      <th>0</th>\n",
       "      <td>1.0</td>\n",
       "      <td>Kaspisches-Meer</td>\n",
       "      <td>Aserbaidschan Russland Kasachstan Turkmenistan...</td>\n",
       "      <td>371.000</td>\n",
       "      <td>1199</td>\n",
       "      <td>1025</td>\n",
       "      <td>78.200</td>\n",
       "    </tr>\n",
       "    <tr>\n",
       "      <th>1</th>\n",
       "      <td>2.0</td>\n",
       "      <td>Oberer-See</td>\n",
       "      <td>USA-Kanada</td>\n",
       "      <td>82.414</td>\n",
       "      <td>616</td>\n",
       "      <td>405</td>\n",
       "      <td>12.100</td>\n",
       "    </tr>\n",
       "    <tr>\n",
       "      <th>2</th>\n",
       "      <td>3.0</td>\n",
       "      <td>Victoriasee</td>\n",
       "      <td>Kenia Tansania Uganda</td>\n",
       "      <td>69.485</td>\n",
       "      <td>322</td>\n",
       "      <td>84</td>\n",
       "      <td>2750</td>\n",
       "    </tr>\n",
       "  </tbody>\n",
       "</table>\n",
       "</div>"
      ],
      "text/plain": [
       "   Rang             Name                                          Staat(en)  \\\n",
       "0   1.0  Kaspisches-Meer  Aserbaidschan Russland Kasachstan Turkmenistan...   \n",
       "1   2.0       Oberer-See                                         USA-Kanada   \n",
       "2   3.0      Victoriasee                              Kenia Tansania Uganda   \n",
       "\n",
       "   Fläche-(km2) Länge-(km) Max.-Tiefe-(m) Volumen-(km?)  \n",
       "0       371.000       1199           1025        78.200  \n",
       "1        82.414        616            405        12.100  \n",
       "2        69.485        322             84          2750  "
      ]
     },
     "execution_count": 66,
     "metadata": {},
     "output_type": "execute_result"
    }
   ],
   "source": [
    "df = pd.read_csv(\"D:\\Dokumenty\\Zastosowanie Technologii Informatycznych\\data\\CEA_Round1\\8468806_0_4382447409703007384.csv\",\n",
    "                sep=',')\n",
    "df[:3]"
   ]
  },
  {
   "cell_type": "code",
   "execution_count": 67,
   "metadata": {},
   "outputs": [
    {
     "data": {
      "text/plain": [
       "'de'"
      ]
     },
     "execution_count": 67,
     "metadata": {},
     "output_type": "execute_result"
    }
   ],
   "source": [
    "detect(df.iloc[0:1, 1:2].values[0][0])"
   ]
  },
  {
   "cell_type": "code",
   "execution_count": 68,
   "metadata": {},
   "outputs": [
    {
     "name": "stdout",
     "output_type": "stream",
     "text": [
      "{'head': {'link': [], 'vars': ['label']}, 'results': {'distinct': False, 'ordered': True, 'bindings': [{'label': {'type': 'literal', 'xml:lang': 'en', 'value': 'Norway'}}, {'label': {'type': 'literal', 'xml:lang': 'ar', 'value': 'النرويج'}}, {'label': {'type': 'literal', 'xml:lang': 'de', 'value': 'Norwegen'}}, {'label': {'type': 'literal', 'xml:lang': 'es', 'value': 'Noruega'}}, {'label': {'type': 'literal', 'xml:lang': 'fr', 'value': 'Norvège'}}, {'label': {'type': 'literal', 'xml:lang': 'it', 'value': 'Norvegia'}}, {'label': {'type': 'literal', 'xml:lang': 'ja', 'value': 'ノルウェー'}}, {'label': {'type': 'literal', 'xml:lang': 'nl', 'value': 'Noorwegen'}}, {'label': {'type': 'literal', 'xml:lang': 'pl', 'value': 'Norwegia'}}, {'label': {'type': 'literal', 'xml:lang': 'pt', 'value': 'Noruega'}}, {'label': {'type': 'literal', 'xml:lang': 'ru', 'value': 'Норвегия'}}, {'label': {'type': 'literal', 'xml:lang': 'zh', 'value': '挪威'}}]}}\n",
      "Norway\n",
      "النرويج\n",
      "Norwegen\n",
      "Noruega\n",
      "Norvège\n",
      "Norvegia\n",
      "ノルウェー\n",
      "Noorwegen\n",
      "Norwegia\n",
      "Noruega\n",
      "Норвегия\n",
      "挪威\n"
     ]
    }
   ],
   "source": [
    "from SPARQLWrapper import SPARQLWrapper, JSON\n",
    "\n",
    "sparql = SPARQLWrapper(\"http://dbpedia.org/sparql\")\n",
    "sparql.setQuery(\"\"\"\n",
    "    PREFIX rdfs: <http://www.w3.org/2000/01/rdf-schema#>\n",
    "    SELECT ?label\n",
    "    WHERE { <http://dbpedia.org/resource/Norway> rdfs:label ?label }\n",
    "\"\"\")\n",
    "sparql.setReturnFormat(JSON)\n",
    "results = sparql.query().convert()\n",
    "\n",
    "print(results)\n",
    "for result in results[\"results\"][\"bindings\"]:\n",
    "    print(result[\"label\"][\"value\"])"
   ]
  },
  {
   "cell_type": "code",
   "execution_count": 69,
   "metadata": {},
   "outputs": [
    {
     "name": "stdout",
     "output_type": "stream",
     "text": [
      "{'head': {'link': [], 'vars': ['a', 'c']}, 'results': {'distinct': False, 'ordered': True, 'bindings': [{'a': {'type': 'uri', 'value': 'http://dbpedia.org/resource/IKEA'}}]}}\n"
     ]
    }
   ],
   "source": [
    "from SPARQLWrapper import SPARQLWrapper, JSON\n",
    "\n",
    "sparql = SPARQLWrapper(\"http://dbpedia.org/sparql\")\n",
    "sparql.setQuery(\"\"\"\n",
    "    PREFIX rdfs: <http://www.w3.org/2000/01/rdf-schema#>\n",
    "    PREFIX ont: <http://dbpedia.org/ontology/>\n",
    "    SELECT ?a, ?c\n",
    "    WHERE { \n",
    "            ?a ont:location <http://dbpedia.org/resource/Delft> . \n",
    "            FILTER regex(?a, \"Ikea\", \"i\")\n",
    "          }\n",
    "\"\"\")\n",
    "sparql.setReturnFormat(JSON)\n",
    "results = sparql.query().convert()\n",
    "\n",
    "print(results)\n",
    "# print(result['a'])\n",
    "# print(result['b'])\n",
    "# print(result['c'])\n",
    "\n",
    "# for result in results[\"results\"][\"bindings\"]:\n",
    "#     print(type(result))"
   ]
  },
  {
   "cell_type": "code",
   "execution_count": 1,
   "metadata": {},
   "outputs": [
    {
     "name": "stdout",
     "output_type": "stream",
     "text": [
      "{'head': {'link': []}, 'boolean': True}\n"
     ]
    }
   ],
   "source": [
    "from SPARQLWrapper import SPARQLWrapper, JSON\n",
    "\n",
    "sss = \"dbr:Game_of_Thrones\"\n",
    "sparql = SPARQLWrapper(\"http://dbpedia.org/sparql\")\n",
    "sparql.setQuery('''\n",
    "ASK {e}\n",
    "    VALUES (?r) {e} ({source}) {w}\n",
    "        {e} ?r ?p ?o {w}\n",
    "        UNION\n",
    "        {e} ?s ?r ?o {w}\n",
    "        UNION\n",
    "        {e} ?s ?p ?r {w}\n",
    "    {w} \n",
    "'''.format(source=sss, e=\"{\", w=\"}\"))\n",
    "sparql.setReturnFormat(JSON)\n",
    "results = sparql.query().convert()\n",
    "\n",
    "print(results)"
   ]
  },
  {
   "cell_type": "code",
   "execution_count": 2,
   "metadata": {},
   "outputs": [
    {
     "name": "stdout",
     "output_type": "stream",
     "text": [
      "{'head': {'link': []}, 'boolean': False}\n"
     ]
    }
   ],
   "source": [
    "from SPARQLWrapper import SPARQLWrapper, JSON\n",
    "\n",
    "sss = \"dbr:Game_of_Thrones\"\n",
    "sparql = SPARQLWrapper(\"http://dbpedia.org/sparql\")\n",
    "sparql.setQuery('''\n",
    "ASK {\n",
    "    VALUES (?r) { (dbr:Gra_o_tron) }\n",
    "        { ?r ?p ?o }\n",
    "        UNION\n",
    "        { ?s ?r ?o }\n",
    "        UNION\n",
    "        { ?s ?p ?r }\n",
    "    } \n",
    "''')\n",
    "sparql.setReturnFormat(JSON)\n",
    "results = sparql.query().convert()\n",
    "\n",
    "print(results)\n",
    "\n"
   ]
  },
  {
   "cell_type": "code",
   "execution_count": null,
   "metadata": {},
   "outputs": [],
   "source": [
    "SELECT ?r ?p ?o\n",
    "WHERE {\n",
    " VALUES (?r) { (dbr:Cat) }\n",
    "        { ?r ?p ?o }\n",
    "        UNION\n",
    "        { ?s ?r ?o }\n",
    "        UNION\n",
    "        { ?s ?p ?r }\n",
    "}\n",
    "\n",
    "select ?s\n",
    "where {\n",
    "        { ?s rdfs:label \"Kot domowy\"@pl }\n",
    "        UNION\n",
    "        { \"Kot domowy\"@pl rdfs:label ?s }\n",
    "} \n",
    "\n",
    "SELECT ?r\n",
    "WHERE {\n",
    "        { ?r rdfs:label \"Kaspisches Meer\"@de }\n",
    "\n",
    "}"
   ]
  }
 ],
 "metadata": {
  "kernelspec": {
   "display_name": "Python 3",
   "language": "python",
   "name": "python3"
  },
  "language_info": {
   "codemirror_mode": {
    "name": "ipython",
    "version": 3
   },
   "file_extension": ".py",
   "mimetype": "text/x-python",
   "name": "python",
   "nbconvert_exporter": "python",
   "pygments_lexer": "ipython3",
   "version": "3.7.3"
  }
 },
 "nbformat": 4,
 "nbformat_minor": 2
}
