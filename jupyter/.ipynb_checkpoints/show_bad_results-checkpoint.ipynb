{
 "cells": [
  {
   "cell_type": "code",
   "execution_count": 1,
   "metadata": {},
   "outputs": [],
   "source": [
    "import pandas as pd"
   ]
  },
  {
   "cell_type": "code",
   "execution_count": null,
   "metadata": {},
   "outputs": [],
   "source": [
    "sub = pd.read_csv(\"D:\\Dokumenty\\Zastosowanie Technologii Informatycznych\\evaluator_codes\\evaluator_codes\\data\\my_submission2.csv\",\n",
    "                    sep = ',',\n",
    "#                      skiprows=range(112,113), # 112 wadliwy wiersz\n",
    "                    names=['TableID', 'ColumnID', 'RowID', \"URI_sub\"])\n",
    "sub[:3]"
   ]
  },
  {
   "cell_type": "code",
   "execution_count": null,
   "metadata": {},
   "outputs": [],
   "source": [
    "gt = pd.read_csv(\"D:\\Dokumenty\\Zastosowanie Technologii Informatycznych\\evaluator_codes\\evaluator_codes\\data\\CEA_Round1_gt.csv\",\n",
    "                    sep = ',',\n",
    "#                      skiprows=range(112,113), # 112 wadliwy wiersz\n",
    "                    names=['TableID', 'ColumnID', 'RowID', \"URI_gt\"])\n",
    "gt[:3]"
   ]
  },
  {
   "cell_type": "code",
   "execution_count": null,
   "metadata": {},
   "outputs": [],
   "source": [
    "merged = pd.merge(gt, \n",
    "                  sub, \n",
    "                  on=['TableID', 'ColumnID', 'RowID']\n",
    "                 )\n",
    "merged = merged[['TableID', 'ColumnID', 'RowID', 'URI_sub','URI_gt']]\n",
    "merged[:3]"
   ]
  },
  {
   "cell_type": "code",
   "execution_count": null,
   "metadata": {},
   "outputs": [],
   "source": [
    "merged_copy = merged.copy()"
   ]
  },
  {
   "cell_type": "code",
   "execution_count": null,
   "metadata": {},
   "outputs": [],
   "source": [
    "def f(df):\n",
    "    gt = df['URI_gt'].split(' ')\n",
    "    sub = df['URI_sub']\n",
    "    if sub in gt:\n",
    "        return 1\n",
    "    else:\n",
    "        return 0\n",
    "\n",
    "\n",
    "merged_copy['ok'] = merged_copy.apply(f, axis=1)\n",
    "merged_copy[:3]"
   ]
  },
  {
   "cell_type": "code",
   "execution_count": null,
   "metadata": {},
   "outputs": [],
   "source": [
    "import collections\n",
    "collections.Counter(merged_copy['ok'])"
   ]
  },
  {
   "cell_type": "code",
   "execution_count": null,
   "metadata": {},
   "outputs": [],
   "source": [
    "merged_copy[merged_copy['ok'] == 1]"
   ]
  },
  {
   "cell_type": "code",
   "execution_count": null,
   "metadata": {},
   "outputs": [],
   "source": [
    "merged_copy[merged_copy['ok'] == 0].to_csv(\"D:\\\\Dokumenty\\\\Zastosowanie Technologii Informatycznych\\\\evaluator_codes\\\\evaluator_codes\\\\data\\\\results0.csv\",\n",
    "                 index=False,\n",
    "                 sep=',')"
   ]
  },
  {
   "cell_type": "code",
   "execution_count": null,
   "metadata": {},
   "outputs": [],
   "source": [
    "# Wczytaj i pokaż wyniki"
   ]
  },
  {
   "cell_type": "code",
   "execution_count": null,
   "metadata": {},
   "outputs": [],
   "source": [
    "sub = pd.read_csv(\"D:\\Dokumenty\\Zastosowanie Technologii Informatycznych\\evaluator_codes\\evaluator_codes\\data\\my_submission2.csv\",\n",
    "                    sep = ',',\n",
    "#                      skiprows=range(112,113), # 112 wadliwy wiersz\n",
    "                    names=['TableID', 'ColumnID', 'RowID', \"URI_sub\"])\n",
    "sub[:3]"
   ]
  },
  {
   "cell_type": "code",
   "execution_count": null,
   "metadata": {},
   "outputs": [],
   "source": []
  },
  {
   "cell_type": "code",
   "execution_count": null,
   "metadata": {},
   "outputs": [],
   "source": []
  },
  {
   "cell_type": "code",
   "execution_count": null,
   "metadata": {},
   "outputs": [],
   "source": []
  },
  {
   "cell_type": "code",
   "execution_count": null,
   "metadata": {},
   "outputs": [],
   "source": []
  },
  {
   "cell_type": "code",
   "execution_count": 3,
   "metadata": {},
   "outputs": [],
   "source": [
    "import spacy\n",
    "spacy.prefer_gpu()\n",
    "nlp = spacy.load(\"en_core_web_sm\")\n",
    "# doc = nlp('I am sflmgmavknsaccasas')\n",
    "# for token in 'k8s sdjhsd horse hit'.split(' '): print(nlp.vocab.has_vector(token))"
   ]
  },
  {
   "cell_type": "code",
   "execution_count": null,
   "metadata": {},
   "outputs": [],
   "source": [
    "nlp.vocab.__contains__(\"ggg\")"
   ]
  },
  {
   "cell_type": "code",
   "execution_count": null,
   "metadata": {},
   "outputs": [],
   "source": [
    "apple = nlp.vocab.strings[\"apple\"]\n",
    "oov = nlp.vocab.strings[\"dskfodkfos\"]\n",
    "if apple in nlp.vocab:\n",
    "    print('fff')"
   ]
  },
  {
   "cell_type": "code",
   "execution_count": 13,
   "metadata": {},
   "outputs": [
    {
     "name": "stderr",
     "output_type": "stream",
     "text": [
      "D:\\Instalowane\\Programy\\Anaconda3\\lib\\runpy.py:193: ModelsWarning: [W007] The model you're using has no word vectors loaded, so the result of the Token.similarity method will be based on the tagger, parser and NER, which may not give useful similarity judgements. This may happen if you're using one of the small models, e.g. `en_core_web_sm`, which don't ship with word vectors and only use context-sensitive tensors. You can always add your own word vectors, or use one of the larger models instead if available.\n",
      "  \"__main__\", mod_spec)\n"
     ]
    },
    {
     "name": "stdout",
     "output_type": "stream",
     "text": [
      "Similarity: 0.36963245\n"
     ]
    }
   ],
   "source": [
    "tokens = nlp('apple apgle')\n",
    "token1, token2 = tokens[0], tokens[1] \n",
    "  \n",
    "print(\"Similarity:\", token1.similarity(token2)) "
   ]
  },
  {
   "cell_type": "code",
   "execution_count": null,
   "metadata": {},
   "outputs": [],
   "source": [
    "if nlp.vocab.has_vector(apple):\n",
    "    print(\"mhm\")"
   ]
  },
  {
   "cell_type": "code",
   "execution_count": null,
   "metadata": {},
   "outputs": [],
   "source": [
    "nlp.vocab.strings"
   ]
  },
  {
   "cell_type": "code",
   "execution_count": null,
   "metadata": {},
   "outputs": [],
   "source": [
    "nlp.vocab.has_vector(\"dfsf\")"
   ]
  },
  {
   "cell_type": "code",
   "execution_count": null,
   "metadata": {},
   "outputs": [],
   "source": [
    "nlp"
   ]
  },
  {
   "cell_type": "code",
   "execution_count": 15,
   "metadata": {},
   "outputs": [],
   "source": [
    "from pattern.de import suggest"
   ]
  },
  {
   "cell_type": "code",
   "execution_count": 20,
   "metadata": {},
   "outputs": [
    {
     "data": {
      "text/plain": [
       "[('Hatte', 0.7344559585492227),\n",
       " ('Tze', 0.11787564766839378),\n",
       " ('Ganze', 0.10233160621761658),\n",
       " ('Satz', 0.006476683937823834),\n",
       " ('Sitze', 0.0051813471502590676),\n",
       " ('Rate', 0.0038860103626943004),\n",
       " ('Katie', 0.0038860103626943004),\n",
       " ('Witze', 0.0025906735751295338),\n",
       " ('Setze', 0.0025906735751295338),\n",
       " ('Latte', 0.0025906735751295338),\n",
       " ('Kate', 0.0025906735751295338),\n",
       " ('Hatje', 0.0025906735751295338),\n",
       " ('Batz', 0.0025906735751295338),\n",
       " ('Matz', 0.0012953367875647669),\n",
       " ('Matte', 0.0012953367875647669),\n",
       " ('Mate', 0.0012953367875647669),\n",
       " ('Lotze', 0.0012953367875647669),\n",
       " ('Jazze', 0.0012953367875647669),\n",
       " ('Hitze', 0.0012953367875647669),\n",
       " ('Gatz', 0.0012953367875647669),\n",
       " ('Gate', 0.0012953367875647669)]"
      ]
     },
     "execution_count": 20,
     "metadata": {},
     "output_type": "execute_result"
    }
   ],
   "source": [
    "suggest(\"Katze\")"
   ]
  },
  {
   "cell_type": "code",
   "execution_count": null,
   "metadata": {},
   "outputs": [],
   "source": []
  }
 ],
 "metadata": {
  "kernelspec": {
   "display_name": "Python 3",
   "language": "python",
   "name": "python3"
  },
  "language_info": {
   "codemirror_mode": {
    "name": "ipython",
    "version": 3
   },
   "file_extension": ".py",
   "mimetype": "text/x-python",
   "name": "python",
   "nbconvert_exporter": "python",
   "pygments_lexer": "ipython3",
   "version": "3.7.3"
  }
 },
 "nbformat": 4,
 "nbformat_minor": 2
}
